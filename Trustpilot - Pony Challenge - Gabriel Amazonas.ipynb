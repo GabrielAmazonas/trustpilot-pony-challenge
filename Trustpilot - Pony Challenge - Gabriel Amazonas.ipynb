{
 "cells": [
  {
   "cell_type": "markdown",
   "metadata": {},
   "source": [
    "# Trustpilot - Pony Challenge"
   ]
  },
  {
   "cell_type": "code",
   "execution_count": 323,
   "metadata": {},
   "outputs": [],
   "source": [
    "import requests\n",
    "import json\n",
    "from matplotlib import pyplot as plt\n",
    "import numpy\n",
    "from IPython.display import Image\n",
    "from IPython.core.display import HTML \n",
    "\n",
    "\n",
    "#Global Maze Data:\n",
    "maze_width = 15\n",
    "maze_height = 15"
   ]
  },
  {
   "cell_type": "code",
   "execution_count": 324,
   "metadata": {},
   "outputs": [],
   "source": [
    "data = {\"maze-width\": maze_width,'maze-height': maze_height,'maze-player-name':'Applejack','difficulty': 0}"
   ]
  },
  {
   "cell_type": "code",
   "execution_count": 325,
   "metadata": {},
   "outputs": [],
   "source": [
    "headers = {'Content-Type': 'application/json', 'Accept': 'application/json'}"
   ]
  },
  {
   "cell_type": "markdown",
   "metadata": {},
   "source": [
    "## Create the maze with a valid Pony name as parameter"
   ]
  },
  {
   "cell_type": "code",
   "execution_count": 326,
   "metadata": {},
   "outputs": [],
   "source": [
    "create_maze_response = requests.post('https://ponychallenge.trustpilot.com/pony-challenge/maze', json=data, headers=headers)"
   ]
  },
  {
   "cell_type": "code",
   "execution_count": 327,
   "metadata": {},
   "outputs": [
    {
     "name": "stdout",
     "output_type": "stream",
     "text": [
      "{\"maze_id\":\"91eb7f74-46ec-4286-a446-f4dc9960c86e\"}\n"
     ]
    }
   ],
   "source": [
    "print(create_maze_response.text)"
   ]
  },
  {
   "cell_type": "code",
   "execution_count": 328,
   "metadata": {},
   "outputs": [
    {
     "name": "stdout",
     "output_type": "stream",
     "text": [
      "{'maze_id': '91eb7f74-46ec-4286-a446-f4dc9960c86e'}\n"
     ]
    }
   ],
   "source": [
    "json_response = create_maze_response.json()\n",
    "print(json_response)\n"
   ]
  },
  {
   "cell_type": "code",
   "execution_count": 329,
   "metadata": {},
   "outputs": [],
   "source": [
    "maze_id = json_response['maze_id']"
   ]
  },
  {
   "cell_type": "code",
   "execution_count": 330,
   "metadata": {},
   "outputs": [],
   "source": [
    "get_maze_response = requests.get('https://ponychallenge.trustpilot.com/pony-challenge/maze/{0}'.format(maze_id), headers=headers)"
   ]
  },
  {
   "cell_type": "code",
   "execution_count": 331,
   "metadata": {},
   "outputs": [],
   "source": [
    "get_maze_response_json = get_maze_response.json()"
   ]
  },
  {
   "cell_type": "markdown",
   "metadata": {},
   "source": [
    "## Checking walkable paths:"
   ]
  },
  {
   "cell_type": "markdown",
   "metadata": {},
   "source": [
    "## Documentation directions:"
   ]
  },
  {
   "cell_type": "markdown",
   "metadata": {},
   "source": [
    "### \"The 'data' contains an array with width*height entries. Each entry has at most 2 walls, 'west' and 'north'. If you want to find all walkable directions from place X you need to use the array entries X, X+1 and X+width to construct all walls around the place X.\""
   ]
  },
  {
   "cell_type": "code",
   "execution_count": 332,
   "metadata": {},
   "outputs": [],
   "source": [
    "pony_position = get_maze_response_json['pony'][0]"
   ]
  },
  {
   "cell_type": "code",
   "execution_count": 333,
   "metadata": {},
   "outputs": [],
   "source": [
    "domokun_position = get_maze_response_json['domokun'][0]"
   ]
  },
  {
   "cell_type": "code",
   "execution_count": 334,
   "metadata": {},
   "outputs": [],
   "source": [
    "end_point = get_maze_response_json['end-point'][0]"
   ]
  },
  {
   "cell_type": "code",
   "execution_count": 335,
   "metadata": {},
   "outputs": [],
   "source": [
    "def check_connected_nodes(entries, entry_index):\n",
    "    \n",
    "    east_entry = entry_index + 1\n",
    "    south_entry = entry_index + maze_width\n",
    "    north_entry = entry_index - maze_width \n",
    "    west_entry = entry_index - 1\n",
    "    \n",
    "    possible_connections = []\n",
    "    \n",
    "    if east_entry <= len(entries) - 1:\n",
    "        possible_connections.append(east_entry)\n",
    "    if west_entry >= 0:\n",
    "        possible_connections.append(west_entry)\n",
    "    if south_entry <= len(entries) - 1:\n",
    "        possible_connections.append(south_entry)\n",
    "    if north_entry >= 0:\n",
    "        possible_connections.append(north_entry)\n",
    "\n",
    "    if 'north' in entries[entry_index] and north_entry in possible_connections:\n",
    "        possible_connections.remove(north_entry)\n",
    "    if 'west' in entries[entry_index] and west_entry in possible_connections:\n",
    "        possible_connections.remove(west_entry)\n",
    "\n",
    "    # East Entry Check\n",
    "    if east_entry in possible_connections:\n",
    "        if 'west' in entries[east_entry]:\n",
    "            # remove east as possible direction\n",
    "            possible_connections.remove(east_entry)\n",
    "\n",
    "    # South entry check\n",
    "    if south_entry in possible_connections:\n",
    "        if 'north' in entries[south_entry]:\n",
    "            possible_connections.remove(south_entry)\n",
    "    \n",
    "    return possible_connections\n",
    "    \n",
    "    "
   ]
  },
  {
   "cell_type": "code",
   "execution_count": 336,
   "metadata": {},
   "outputs": [],
   "source": [
    "entries = get_maze_response_json['data']\n",
    "\n",
    "#Let's start to build a graph with this data. Based on the possible directions for eacht entry, we will add the graph nodes.\n",
    "graph = {}\n",
    "\n",
    "for index, entry in enumerate(entries):\n",
    "    graph[index] = check_connected_nodes(entries, index)\n",
    "    \n",
    "\n"
   ]
  },
  {
   "cell_type": "code",
   "execution_count": 337,
   "metadata": {},
   "outputs": [
    {
     "name": "stdout",
     "output_type": "stream",
     "text": [
      "65\n"
     ]
    }
   ],
   "source": [
    "print(pony_position)"
   ]
  },
  {
   "cell_type": "code",
   "execution_count": 338,
   "metadata": {},
   "outputs": [
    {
     "name": "stdout",
     "output_type": "stream",
     "text": [
      "70\n"
     ]
    }
   ],
   "source": [
    "print(domokun_position)"
   ]
  },
  {
   "cell_type": "code",
   "execution_count": 339,
   "metadata": {},
   "outputs": [],
   "source": [
    "# Graph Modeling and path search recursive strategy as seen at: https://www.python.org/doc/essays/graphs/\n",
    "def find_path(graph, start, end, path=[]):\n",
    "    path = path + [start]\n",
    "    if start == end:\n",
    "        return path\n",
    "    if start not in graph:\n",
    "        return None\n",
    "    for node in graph[start]:\n",
    "        if node not in path:\n",
    "            newpath = find_path(graph, node, end, path)\n",
    "            if newpath: return newpath\n",
    "    return None"
   ]
  },
  {
   "cell_type": "code",
   "execution_count": 340,
   "metadata": {},
   "outputs": [],
   "source": [
    "def convert_to_directions(path):\n",
    "    directions = []\n",
    "    for index, entry in enumerate(path):\n",
    "        if(index + 1) > (len(path) -1):\n",
    "            continue\n",
    "        if path[index + 1] - path[index] == -1:\n",
    "            directions.append('west')\n",
    "        elif path[index + 1] - path[index] == +1:\n",
    "            directions.append('east')\n",
    "        elif path[index + 1] - path[index] == maze_width:\n",
    "            directions.append('south')\n",
    "        elif path[index + 1] - path[index] == -maze_width:\n",
    "            directions.append('north')\n",
    "    return directions"
   ]
  },
  {
   "cell_type": "code",
   "execution_count": 341,
   "metadata": {},
   "outputs": [],
   "source": [
    "result = find_path(graph, pony_position, end_point)"
   ]
  },
  {
   "cell_type": "code",
   "execution_count": 342,
   "metadata": {},
   "outputs": [
    {
     "name": "stdout",
     "output_type": "stream",
     "text": [
      "[65, 50, 35, 36, 51, 52, 37, 38, 39, 54, 69, 68, 67, 66, 81, 82, 83, 98, 99, 114, 129, 128, 143, 144, 145, 146, 161, 160, 159, 158, 173, 174, 175, 190, 189, 204, 219, 218]\n"
     ]
    }
   ],
   "source": [
    "print(result)"
   ]
  },
  {
   "cell_type": "code",
   "execution_count": 343,
   "metadata": {},
   "outputs": [],
   "source": [
    "directions = convert_to_directions(result)"
   ]
  },
  {
   "cell_type": "code",
   "execution_count": 344,
   "metadata": {},
   "outputs": [
    {
     "name": "stdout",
     "output_type": "stream",
     "text": [
      "['north', 'north', 'east', 'south', 'east', 'north', 'east', 'east', 'south', 'south', 'west', 'west', 'west', 'south', 'east', 'east', 'south', 'east', 'south', 'south', 'west', 'south', 'east', 'east', 'east', 'south', 'west', 'west', 'west', 'south', 'east', 'east', 'south', 'west', 'south', 'south', 'west']\n"
     ]
    }
   ],
   "source": [
    "print(directions)"
   ]
  },
  {
   "cell_type": "code",
   "execution_count": 345,
   "metadata": {},
   "outputs": [],
   "source": [
    "## With the directions list, move the poney until reach the end of the maze."
   ]
  },
  {
   "cell_type": "code",
   "execution_count": 346,
   "metadata": {},
   "outputs": [
    {
     "name": "stdout",
     "output_type": "stream",
     "text": [
      "{\"state\":\"active\",\"state-result\":\"Move accepted\"}\n",
      "{\"state\":\"active\",\"state-result\":\"Move accepted\"}\n",
      "{\"state\":\"active\",\"state-result\":\"Move accepted\"}\n",
      "{\"state\":\"active\",\"state-result\":\"Move accepted\"}\n",
      "{\"state\":\"active\",\"state-result\":\"Move accepted\"}\n",
      "{\"state\":\"active\",\"state-result\":\"Move accepted\"}\n",
      "{\"state\":\"active\",\"state-result\":\"Move accepted\"}\n",
      "{\"state\":\"active\",\"state-result\":\"Move accepted\"}\n",
      "{\"state\":\"active\",\"state-result\":\"Move accepted\"}\n",
      "{\"state\":\"active\",\"state-result\":\"Move accepted\"}\n",
      "{\"state\":\"active\",\"state-result\":\"Move accepted\"}\n",
      "{\"state\":\"active\",\"state-result\":\"Move accepted\"}\n",
      "{\"state\":\"active\",\"state-result\":\"Move accepted\"}\n",
      "{\"state\":\"active\",\"state-result\":\"Move accepted\"}\n",
      "{\"state\":\"active\",\"state-result\":\"Move accepted\"}\n",
      "{\"state\":\"active\",\"state-result\":\"Move accepted\"}\n",
      "{\"state\":\"active\",\"state-result\":\"Move accepted\"}\n",
      "{\"state\":\"active\",\"state-result\":\"Move accepted\"}\n",
      "{\"state\":\"active\",\"state-result\":\"Move accepted\"}\n",
      "{\"state\":\"active\",\"state-result\":\"Move accepted\"}\n",
      "{\"state\":\"active\",\"state-result\":\"Move accepted\"}\n",
      "{\"state\":\"active\",\"state-result\":\"Move accepted\"}\n",
      "{\"state\":\"active\",\"state-result\":\"Move accepted\"}\n",
      "{\"state\":\"active\",\"state-result\":\"Move accepted\"}\n",
      "{\"state\":\"active\",\"state-result\":\"Move accepted\"}\n",
      "{\"state\":\"active\",\"state-result\":\"Move accepted\"}\n",
      "{\"state\":\"active\",\"state-result\":\"Move accepted\"}\n",
      "{\"state\":\"active\",\"state-result\":\"Move accepted\"}\n",
      "{\"state\":\"active\",\"state-result\":\"Move accepted\"}\n",
      "{\"state\":\"active\",\"state-result\":\"Move accepted\"}\n",
      "{\"state\":\"active\",\"state-result\":\"Move accepted\"}\n",
      "{\"state\":\"active\",\"state-result\":\"Move accepted\"}\n",
      "{\"state\":\"active\",\"state-result\":\"Move accepted\"}\n",
      "{\"state\":\"active\",\"state-result\":\"Move accepted\"}\n",
      "{\"state\":\"active\",\"state-result\":\"Move accepted\"}\n",
      "{\"state\":\"active\",\"state-result\":\"Move accepted\"}\n",
      "{\"state\":\"won\",\"state-result\":\"You won. Game ended\",\"hidden-url\":\"/eW91X3NhdmVkX3RoZV9wb255.jpg\"}\n"
     ]
    }
   ],
   "source": [
    "for direction in directions:\n",
    "    data = { 'direction' : direction}\n",
    "    move_response = requests.post('https://ponychallenge.trustpilot.com/pony-challenge/maze/{0}'.format(maze_id), json=data, headers=headers)\n",
    "    print(move_response.text)"
   ]
  },
  {
   "cell_type": "code",
   "execution_count": 347,
   "metadata": {},
   "outputs": [
    {
     "data": {
      "text/html": [
       "<img src=\"https://ponychallenge.trustpilot.com/eW91X3NhdmVkX3RoZV9wb255.jpg\"/>"
      ],
      "text/plain": [
       "<IPython.core.display.Image object>"
      ]
     },
     "execution_count": 347,
     "metadata": {},
     "output_type": "execute_result"
    }
   ],
   "source": [
    "Image(url= \"https://ponychallenge.trustpilot.com/eW91X3NhdmVkX3RoZV9wb255.jpg\")"
   ]
  },
  {
   "cell_type": "code",
   "execution_count": null,
   "metadata": {},
   "outputs": [],
   "source": []
  }
 ],
 "metadata": {
  "kernelspec": {
   "display_name": "Python 3",
   "language": "python",
   "name": "python3"
  },
  "language_info": {
   "codemirror_mode": {
    "name": "ipython",
    "version": 3
   },
   "file_extension": ".py",
   "mimetype": "text/x-python",
   "name": "python",
   "nbconvert_exporter": "python",
   "pygments_lexer": "ipython3",
   "version": "3.7.3"
  }
 },
 "nbformat": 4,
 "nbformat_minor": 2
}
